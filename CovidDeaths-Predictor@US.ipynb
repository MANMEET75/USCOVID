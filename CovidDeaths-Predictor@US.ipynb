{
 "cells": [
  {
   "cell_type": "markdown",
   "id": "b02f6920",
   "metadata": {},
   "source": [
    "## Part 1 Feature Engineering"
   ]
  },
  {
   "cell_type": "code",
   "execution_count": 1,
   "id": "27d2a241",
   "metadata": {},
   "outputs": [
    {
     "name": "stdout",
     "output_type": "stream",
     "text": [
      "              date      county       state     fips  cases  deaths\n",
      "0       2020-01-21   Snohomish  Washington  53061.0      1     0.0\n",
      "1       2020-01-22   Snohomish  Washington  53061.0      1     0.0\n",
      "2       2020-01-23   Snohomish  Washington  53061.0      1     0.0\n",
      "3       2020-01-24        Cook    Illinois  17031.0      1     0.0\n",
      "4       2020-01-24   Snohomish  Washington  53061.0      1     0.0\n",
      "...            ...         ...         ...      ...    ...     ...\n",
      "800432  2020-12-05  Sweetwater     Wyoming  56037.0   2098    10.0\n",
      "800433  2020-12-05       Teton     Wyoming  56039.0   1739     2.0\n",
      "800434  2020-12-05       Uinta     Wyoming  56041.0   1187     5.0\n",
      "800435  2020-12-05    Washakie     Wyoming  56043.0    519     8.0\n",
      "800436  2020-12-05      Weston     Wyoming  56045.0    419     2.0\n",
      "\n",
      "[800437 rows x 6 columns]\n"
     ]
    },
    {
     "data": {
      "application/vnd.jupyter.widget-view+json": {
       "model_id": "5a03d745ee0446269d13c8ea1b7a9e4b",
       "version_major": 2,
       "version_minor": 0
      },
      "text/plain": [
       "Summarize dataset:   0%|          | 0/5 [00:00<?, ?it/s]"
      ]
     },
     "metadata": {},
     "output_type": "display_data"
    },
    {
     "name": "stderr",
     "output_type": "stream",
     "text": [
      "G:\\PYTHON\\lib\\site-packages\\scipy\\stats\\_stats_py.py:4868: RuntimeWarning: overflow encountered in longlong_scalars\n",
      "  (2 * xtie * ytie) / m + x0 * y0 / (9 * m * (size - 2)))\n"
     ]
    },
    {
     "data": {
      "application/vnd.jupyter.widget-view+json": {
       "model_id": "25a93011246345f2ae2bec1a18aebdcc",
       "version_major": 2,
       "version_minor": 0
      },
      "text/plain": [
       "Generate report structure:   0%|          | 0/1 [00:00<?, ?it/s]"
      ]
     },
     "metadata": {},
     "output_type": "display_data"
    },
    {
     "data": {
      "application/vnd.jupyter.widget-view+json": {
       "model_id": "c85235dd10904c1ba180e7acba0d014d",
       "version_major": 2,
       "version_minor": 0
      },
      "text/plain": [
       "Render HTML:   0%|          | 0/1 [00:00<?, ?it/s]"
      ]
     },
     "metadata": {},
     "output_type": "display_data"
    },
    {
     "data": {
      "application/vnd.jupyter.widget-view+json": {
       "model_id": "90f8e3f3f48f4700be812f70d7e2bd0c",
       "version_major": 2,
       "version_minor": 0
      },
      "text/plain": [
       "Export report to file:   0%|          | 0/1 [00:00<?, ?it/s]"
      ]
     },
     "metadata": {},
     "output_type": "display_data"
    }
   ],
   "source": [
    "import pandas as pd\n",
    "from pandas_profiling import ProfileReport\n",
    "df=pd.read_csv(\"US_COVID_DEATHS_PREDICTOR/US COVID.csv\")\n",
    "print(df)\n",
    "\n",
    "profile=ProfileReport(df)\n",
    "profile.to_file(output_file=\"EDA_USCOVID.html\")\n"
   ]
  },
  {
   "cell_type": "markdown",
   "id": "a8193c31",
   "metadata": {},
   "source": [
    "## Importing the libraries"
   ]
  },
  {
   "cell_type": "code",
   "execution_count": 1,
   "id": "49608ff2",
   "metadata": {},
   "outputs": [],
   "source": [
    "import numpy as np\n",
    "import pandas as pd\n",
    "import matplotlib.pyplot as plt\n",
    "import seaborn as sns\n"
   ]
  },
  {
   "cell_type": "markdown",
   "id": "9c7e9b4b",
   "metadata": {},
   "source": [
    "## Importing the dataset"
   ]
  },
  {
   "cell_type": "code",
   "execution_count": 2,
   "id": "3a4322e3",
   "metadata": {},
   "outputs": [],
   "source": [
    "dataset=pd.read_csv(\"US_COVID_DEATHS_PREDICTOR/US COVID.csv\")\n",
    "X=dataset.iloc[:,1:-1].values\n",
    "y=dataset.iloc[:,-1].values\n",
    "y=y.reshape(len(y),1)"
   ]
  },
  {
   "cell_type": "code",
   "execution_count": 3,
   "id": "0d008137",
   "metadata": {},
   "outputs": [
    {
     "data": {
      "text/plain": [
       "array([['Snohomish', 'Washington', 53061.0, 1],\n",
       "       ['Snohomish', 'Washington', 53061.0, 1],\n",
       "       ['Snohomish', 'Washington', 53061.0, 1],\n",
       "       ...,\n",
       "       ['Uinta', 'Wyoming', 56041.0, 1187],\n",
       "       ['Washakie', 'Wyoming', 56043.0, 519],\n",
       "       ['Weston', 'Wyoming', 56045.0, 419]], dtype=object)"
      ]
     },
     "execution_count": 3,
     "metadata": {},
     "output_type": "execute_result"
    }
   ],
   "source": [
    "X"
   ]
  },
  {
   "cell_type": "markdown",
   "id": "f963cf8b",
   "metadata": {},
   "source": [
    "## Taking care of missing values if present "
   ]
  },
  {
   "cell_type": "code",
   "execution_count": 4,
   "id": "206958c9",
   "metadata": {},
   "outputs": [
    {
     "data": {
      "text/plain": [
       "date          0\n",
       "county        0\n",
       "state         0\n",
       "fips       7591\n",
       "cases         0\n",
       "deaths    16733\n",
       "dtype: int64"
      ]
     },
     "execution_count": 4,
     "metadata": {},
     "output_type": "execute_result"
    }
   ],
   "source": [
    "dataset.isnull().sum()"
   ]
  },
  {
   "cell_type": "code",
   "execution_count": 5,
   "id": "26d3a0b3",
   "metadata": {},
   "outputs": [
    {
     "data": {
      "text/html": [
       "<div>\n",
       "<style scoped>\n",
       "    .dataframe tbody tr th:only-of-type {\n",
       "        vertical-align: middle;\n",
       "    }\n",
       "\n",
       "    .dataframe tbody tr th {\n",
       "        vertical-align: top;\n",
       "    }\n",
       "\n",
       "    .dataframe thead th {\n",
       "        text-align: right;\n",
       "    }\n",
       "</style>\n",
       "<table border=\"1\" class=\"dataframe\">\n",
       "  <thead>\n",
       "    <tr style=\"text-align: right;\">\n",
       "      <th></th>\n",
       "      <th>fips</th>\n",
       "      <th>cases</th>\n",
       "      <th>deaths</th>\n",
       "    </tr>\n",
       "  </thead>\n",
       "  <tbody>\n",
       "    <tr>\n",
       "      <th>count</th>\n",
       "      <td>792846.000000</td>\n",
       "      <td>800437.000000</td>\n",
       "      <td>783704.000000</td>\n",
       "    </tr>\n",
       "    <tr>\n",
       "      <th>mean</th>\n",
       "      <td>31238.198828</td>\n",
       "      <td>1589.667358</td>\n",
       "      <td>48.815309</td>\n",
       "    </tr>\n",
       "    <tr>\n",
       "      <th>std</th>\n",
       "      <td>16289.192418</td>\n",
       "      <td>8385.201329</td>\n",
       "      <td>440.482993</td>\n",
       "    </tr>\n",
       "    <tr>\n",
       "      <th>min</th>\n",
       "      <td>1001.000000</td>\n",
       "      <td>0.000000</td>\n",
       "      <td>0.000000</td>\n",
       "    </tr>\n",
       "    <tr>\n",
       "      <th>25%</th>\n",
       "      <td>18179.000000</td>\n",
       "      <td>29.000000</td>\n",
       "      <td>0.000000</td>\n",
       "    </tr>\n",
       "    <tr>\n",
       "      <th>50%</th>\n",
       "      <td>29209.000000</td>\n",
       "      <td>175.000000</td>\n",
       "      <td>3.000000</td>\n",
       "    </tr>\n",
       "    <tr>\n",
       "      <th>75%</th>\n",
       "      <td>46097.000000</td>\n",
       "      <td>775.000000</td>\n",
       "      <td>17.000000</td>\n",
       "    </tr>\n",
       "    <tr>\n",
       "      <th>max</th>\n",
       "      <td>78030.000000</td>\n",
       "      <td>439538.000000</td>\n",
       "      <td>24346.000000</td>\n",
       "    </tr>\n",
       "  </tbody>\n",
       "</table>\n",
       "</div>"
      ],
      "text/plain": [
       "                fips          cases         deaths\n",
       "count  792846.000000  800437.000000  783704.000000\n",
       "mean    31238.198828    1589.667358      48.815309\n",
       "std     16289.192418    8385.201329     440.482993\n",
       "min      1001.000000       0.000000       0.000000\n",
       "25%     18179.000000      29.000000       0.000000\n",
       "50%     29209.000000     175.000000       3.000000\n",
       "75%     46097.000000     775.000000      17.000000\n",
       "max     78030.000000  439538.000000   24346.000000"
      ]
     },
     "execution_count": 5,
     "metadata": {},
     "output_type": "execute_result"
    }
   ],
   "source": [
    "dataset.describe()"
   ]
  },
  {
   "cell_type": "code",
   "execution_count": 6,
   "id": "52d129f5",
   "metadata": {},
   "outputs": [
    {
     "data": {
      "text/plain": [
       "array([['Snohomish', 'Washington', 53061.0, 1],\n",
       "       ['Snohomish', 'Washington', 53061.0, 1],\n",
       "       ['Snohomish', 'Washington', 53061.0, 1],\n",
       "       ...,\n",
       "       ['Uinta', 'Wyoming', 56041.0, 1187],\n",
       "       ['Washakie', 'Wyoming', 56043.0, 519],\n",
       "       ['Weston', 'Wyoming', 56045.0, 419]], dtype=object)"
      ]
     },
     "execution_count": 6,
     "metadata": {},
     "output_type": "execute_result"
    }
   ],
   "source": [
    "X"
   ]
  },
  {
   "cell_type": "code",
   "execution_count": 7,
   "id": "b0549887",
   "metadata": {},
   "outputs": [],
   "source": [
    "from sklearn.impute import SimpleImputer\n",
    "impute=SimpleImputer(missing_values=np.nan,strategy=\"mean\")\n",
    "impute.fit(X[:,2:3])\n",
    "X[:,2:3]=impute.transform(X[:,2:3])\n"
   ]
  },
  {
   "cell_type": "code",
   "execution_count": 8,
   "id": "329fff46",
   "metadata": {},
   "outputs": [],
   "source": [
    "impute.fit(y)\n",
    "y=impute.transform(y)"
   ]
  },
  {
   "cell_type": "markdown",
   "id": "a8da75e5",
   "metadata": {},
   "source": [
    "## Dealing with outliers if present using 5 Number summary"
   ]
  },
  {
   "cell_type": "code",
   "execution_count": 9,
   "id": "7c7b77c7",
   "metadata": {},
   "outputs": [
    {
     "data": {
      "text/plain": [
       "fips      18179.0\n",
       "cases        29.0\n",
       "deaths        0.0\n",
       "Name: 0.25, dtype: float64"
      ]
     },
     "execution_count": 9,
     "metadata": {},
     "output_type": "execute_result"
    }
   ],
   "source": [
    "Q1=dataset.quantile(0.25)\n",
    "Q3=dataset.quantile(0.75)\n",
    "Q1"
   ]
  },
  {
   "cell_type": "code",
   "execution_count": 10,
   "id": "80b3af32",
   "metadata": {},
   "outputs": [
    {
     "data": {
      "text/plain": [
       "fips      46097.0\n",
       "cases       775.0\n",
       "deaths       17.0\n",
       "Name: 0.75, dtype: float64"
      ]
     },
     "execution_count": 10,
     "metadata": {},
     "output_type": "execute_result"
    }
   ],
   "source": [
    "Q3"
   ]
  },
  {
   "cell_type": "code",
   "execution_count": 11,
   "id": "0cb8ac89",
   "metadata": {},
   "outputs": [
    {
     "data": {
      "text/plain": [
       "fips      27918.0\n",
       "cases       746.0\n",
       "deaths       17.0\n",
       "dtype: float64"
      ]
     },
     "execution_count": 11,
     "metadata": {},
     "output_type": "execute_result"
    }
   ],
   "source": [
    "IQR=Q3-Q1\n",
    "IQR"
   ]
  },
  {
   "cell_type": "code",
   "execution_count": 12,
   "id": "690f7a49",
   "metadata": {},
   "outputs": [],
   "source": [
    "lower_limit=Q1-1.5*IQR\n",
    "upper_limit=Q3+1.5*IQR"
   ]
  },
  {
   "cell_type": "code",
   "execution_count": 13,
   "id": "5ad618bc",
   "metadata": {},
   "outputs": [
    {
     "data": {
      "text/plain": [
       "fips     -23698.0\n",
       "cases     -1090.0\n",
       "deaths      -25.5\n",
       "dtype: float64"
      ]
     },
     "execution_count": 13,
     "metadata": {},
     "output_type": "execute_result"
    }
   ],
   "source": [
    "lower_limit"
   ]
  },
  {
   "cell_type": "code",
   "execution_count": 14,
   "id": "1764177e",
   "metadata": {},
   "outputs": [
    {
     "data": {
      "text/plain": [
       "fips      87974.0\n",
       "cases      1894.0\n",
       "deaths       42.5\n",
       "dtype: float64"
      ]
     },
     "execution_count": 14,
     "metadata": {},
     "output_type": "execute_result"
    }
   ],
   "source": [
    "upper_limit"
   ]
  },
  {
   "cell_type": "markdown",
   "id": "e3bc86c1",
   "metadata": {},
   "source": [
    "## Condition if the data value if lower than lower limit or greater than upper limit then that data value is outlier"
   ]
  },
  {
   "cell_type": "code",
   "execution_count": 15,
   "id": "61ba288a",
   "metadata": {},
   "outputs": [
    {
     "name": "stderr",
     "output_type": "stream",
     "text": [
      "C:\\Users\\Manmeet Singh\\AppData\\Local\\Temp\\ipykernel_9796\\1996226988.py:1: FutureWarning: Automatic reindexing on DataFrame vs Series comparisons is deprecated and will raise ValueError in a future version. Do `left, right = left.align(right, axis=1, copy=False)` before e.g. `left == right`\n",
      "  dataset[(dataset<lower_limit)|(dataset>upper_limit)]\n"
     ]
    },
    {
     "data": {
      "text/html": [
       "<div>\n",
       "<style scoped>\n",
       "    .dataframe tbody tr th:only-of-type {\n",
       "        vertical-align: middle;\n",
       "    }\n",
       "\n",
       "    .dataframe tbody tr th {\n",
       "        vertical-align: top;\n",
       "    }\n",
       "\n",
       "    .dataframe thead th {\n",
       "        text-align: right;\n",
       "    }\n",
       "</style>\n",
       "<table border=\"1\" class=\"dataframe\">\n",
       "  <thead>\n",
       "    <tr style=\"text-align: right;\">\n",
       "      <th></th>\n",
       "      <th>date</th>\n",
       "      <th>county</th>\n",
       "      <th>state</th>\n",
       "      <th>fips</th>\n",
       "      <th>cases</th>\n",
       "      <th>deaths</th>\n",
       "    </tr>\n",
       "  </thead>\n",
       "  <tbody>\n",
       "    <tr>\n",
       "      <th>0</th>\n",
       "      <td>NaN</td>\n",
       "      <td>NaN</td>\n",
       "      <td>NaN</td>\n",
       "      <td>NaN</td>\n",
       "      <td>NaN</td>\n",
       "      <td>NaN</td>\n",
       "    </tr>\n",
       "    <tr>\n",
       "      <th>1</th>\n",
       "      <td>NaN</td>\n",
       "      <td>NaN</td>\n",
       "      <td>NaN</td>\n",
       "      <td>NaN</td>\n",
       "      <td>NaN</td>\n",
       "      <td>NaN</td>\n",
       "    </tr>\n",
       "    <tr>\n",
       "      <th>2</th>\n",
       "      <td>NaN</td>\n",
       "      <td>NaN</td>\n",
       "      <td>NaN</td>\n",
       "      <td>NaN</td>\n",
       "      <td>NaN</td>\n",
       "      <td>NaN</td>\n",
       "    </tr>\n",
       "    <tr>\n",
       "      <th>3</th>\n",
       "      <td>NaN</td>\n",
       "      <td>NaN</td>\n",
       "      <td>NaN</td>\n",
       "      <td>NaN</td>\n",
       "      <td>NaN</td>\n",
       "      <td>NaN</td>\n",
       "    </tr>\n",
       "    <tr>\n",
       "      <th>4</th>\n",
       "      <td>NaN</td>\n",
       "      <td>NaN</td>\n",
       "      <td>NaN</td>\n",
       "      <td>NaN</td>\n",
       "      <td>NaN</td>\n",
       "      <td>NaN</td>\n",
       "    </tr>\n",
       "    <tr>\n",
       "      <th>...</th>\n",
       "      <td>...</td>\n",
       "      <td>...</td>\n",
       "      <td>...</td>\n",
       "      <td>...</td>\n",
       "      <td>...</td>\n",
       "      <td>...</td>\n",
       "    </tr>\n",
       "    <tr>\n",
       "      <th>800432</th>\n",
       "      <td>NaN</td>\n",
       "      <td>NaN</td>\n",
       "      <td>NaN</td>\n",
       "      <td>NaN</td>\n",
       "      <td>2098.0</td>\n",
       "      <td>NaN</td>\n",
       "    </tr>\n",
       "    <tr>\n",
       "      <th>800433</th>\n",
       "      <td>NaN</td>\n",
       "      <td>NaN</td>\n",
       "      <td>NaN</td>\n",
       "      <td>NaN</td>\n",
       "      <td>NaN</td>\n",
       "      <td>NaN</td>\n",
       "    </tr>\n",
       "    <tr>\n",
       "      <th>800434</th>\n",
       "      <td>NaN</td>\n",
       "      <td>NaN</td>\n",
       "      <td>NaN</td>\n",
       "      <td>NaN</td>\n",
       "      <td>NaN</td>\n",
       "      <td>NaN</td>\n",
       "    </tr>\n",
       "    <tr>\n",
       "      <th>800435</th>\n",
       "      <td>NaN</td>\n",
       "      <td>NaN</td>\n",
       "      <td>NaN</td>\n",
       "      <td>NaN</td>\n",
       "      <td>NaN</td>\n",
       "      <td>NaN</td>\n",
       "    </tr>\n",
       "    <tr>\n",
       "      <th>800436</th>\n",
       "      <td>NaN</td>\n",
       "      <td>NaN</td>\n",
       "      <td>NaN</td>\n",
       "      <td>NaN</td>\n",
       "      <td>NaN</td>\n",
       "      <td>NaN</td>\n",
       "    </tr>\n",
       "  </tbody>\n",
       "</table>\n",
       "<p>800437 rows × 6 columns</p>\n",
       "</div>"
      ],
      "text/plain": [
       "       date county state  fips   cases  deaths\n",
       "0       NaN    NaN   NaN   NaN     NaN     NaN\n",
       "1       NaN    NaN   NaN   NaN     NaN     NaN\n",
       "2       NaN    NaN   NaN   NaN     NaN     NaN\n",
       "3       NaN    NaN   NaN   NaN     NaN     NaN\n",
       "4       NaN    NaN   NaN   NaN     NaN     NaN\n",
       "...     ...    ...   ...   ...     ...     ...\n",
       "800432  NaN    NaN   NaN   NaN  2098.0     NaN\n",
       "800433  NaN    NaN   NaN   NaN     NaN     NaN\n",
       "800434  NaN    NaN   NaN   NaN     NaN     NaN\n",
       "800435  NaN    NaN   NaN   NaN     NaN     NaN\n",
       "800436  NaN    NaN   NaN   NaN     NaN     NaN\n",
       "\n",
       "[800437 rows x 6 columns]"
      ]
     },
     "execution_count": 15,
     "metadata": {},
     "output_type": "execute_result"
    }
   ],
   "source": [
    "dataset[(dataset<lower_limit)|(dataset>upper_limit)]"
   ]
  },
  {
   "cell_type": "code",
   "execution_count": 16,
   "id": "69de4116",
   "metadata": {},
   "outputs": [
    {
     "name": "stderr",
     "output_type": "stream",
     "text": [
      "C:\\Users\\Manmeet Singh\\AppData\\Local\\Temp\\ipykernel_9796\\3578154692.py:1: FutureWarning: Automatic reindexing on DataFrame vs Series comparisons is deprecated and will raise ValueError in a future version. Do `left, right = left.align(right, axis=1, copy=False)` before e.g. `left == right`\n",
      "  dataset_without_outliers=dataset[(dataset>lower_limit)&(dataset<upper_limit)]\n"
     ]
    }
   ],
   "source": [
    "dataset_without_outliers=dataset[(dataset>lower_limit)&(dataset<upper_limit)]"
   ]
  },
  {
   "cell_type": "code",
   "execution_count": 17,
   "id": "304c23fb",
   "metadata": {},
   "outputs": [
    {
     "data": {
      "text/html": [
       "<div>\n",
       "<style scoped>\n",
       "    .dataframe tbody tr th:only-of-type {\n",
       "        vertical-align: middle;\n",
       "    }\n",
       "\n",
       "    .dataframe tbody tr th {\n",
       "        vertical-align: top;\n",
       "    }\n",
       "\n",
       "    .dataframe thead th {\n",
       "        text-align: right;\n",
       "    }\n",
       "</style>\n",
       "<table border=\"1\" class=\"dataframe\">\n",
       "  <thead>\n",
       "    <tr style=\"text-align: right;\">\n",
       "      <th></th>\n",
       "      <th>date</th>\n",
       "      <th>county</th>\n",
       "      <th>state</th>\n",
       "      <th>fips</th>\n",
       "      <th>cases</th>\n",
       "      <th>deaths</th>\n",
       "    </tr>\n",
       "  </thead>\n",
       "  <tbody>\n",
       "    <tr>\n",
       "      <th>0</th>\n",
       "      <td>NaN</td>\n",
       "      <td>NaN</td>\n",
       "      <td>NaN</td>\n",
       "      <td>53061.0</td>\n",
       "      <td>1.0</td>\n",
       "      <td>0.0</td>\n",
       "    </tr>\n",
       "    <tr>\n",
       "      <th>1</th>\n",
       "      <td>NaN</td>\n",
       "      <td>NaN</td>\n",
       "      <td>NaN</td>\n",
       "      <td>53061.0</td>\n",
       "      <td>1.0</td>\n",
       "      <td>0.0</td>\n",
       "    </tr>\n",
       "    <tr>\n",
       "      <th>2</th>\n",
       "      <td>NaN</td>\n",
       "      <td>NaN</td>\n",
       "      <td>NaN</td>\n",
       "      <td>53061.0</td>\n",
       "      <td>1.0</td>\n",
       "      <td>0.0</td>\n",
       "    </tr>\n",
       "    <tr>\n",
       "      <th>3</th>\n",
       "      <td>NaN</td>\n",
       "      <td>NaN</td>\n",
       "      <td>NaN</td>\n",
       "      <td>17031.0</td>\n",
       "      <td>1.0</td>\n",
       "      <td>0.0</td>\n",
       "    </tr>\n",
       "    <tr>\n",
       "      <th>4</th>\n",
       "      <td>NaN</td>\n",
       "      <td>NaN</td>\n",
       "      <td>NaN</td>\n",
       "      <td>53061.0</td>\n",
       "      <td>1.0</td>\n",
       "      <td>0.0</td>\n",
       "    </tr>\n",
       "    <tr>\n",
       "      <th>...</th>\n",
       "      <td>...</td>\n",
       "      <td>...</td>\n",
       "      <td>...</td>\n",
       "      <td>...</td>\n",
       "      <td>...</td>\n",
       "      <td>...</td>\n",
       "    </tr>\n",
       "    <tr>\n",
       "      <th>800432</th>\n",
       "      <td>NaN</td>\n",
       "      <td>NaN</td>\n",
       "      <td>NaN</td>\n",
       "      <td>56037.0</td>\n",
       "      <td>NaN</td>\n",
       "      <td>10.0</td>\n",
       "    </tr>\n",
       "    <tr>\n",
       "      <th>800433</th>\n",
       "      <td>NaN</td>\n",
       "      <td>NaN</td>\n",
       "      <td>NaN</td>\n",
       "      <td>56039.0</td>\n",
       "      <td>1739.0</td>\n",
       "      <td>2.0</td>\n",
       "    </tr>\n",
       "    <tr>\n",
       "      <th>800434</th>\n",
       "      <td>NaN</td>\n",
       "      <td>NaN</td>\n",
       "      <td>NaN</td>\n",
       "      <td>56041.0</td>\n",
       "      <td>1187.0</td>\n",
       "      <td>5.0</td>\n",
       "    </tr>\n",
       "    <tr>\n",
       "      <th>800435</th>\n",
       "      <td>NaN</td>\n",
       "      <td>NaN</td>\n",
       "      <td>NaN</td>\n",
       "      <td>56043.0</td>\n",
       "      <td>519.0</td>\n",
       "      <td>8.0</td>\n",
       "    </tr>\n",
       "    <tr>\n",
       "      <th>800436</th>\n",
       "      <td>NaN</td>\n",
       "      <td>NaN</td>\n",
       "      <td>NaN</td>\n",
       "      <td>56045.0</td>\n",
       "      <td>419.0</td>\n",
       "      <td>2.0</td>\n",
       "    </tr>\n",
       "  </tbody>\n",
       "</table>\n",
       "<p>800437 rows × 6 columns</p>\n",
       "</div>"
      ],
      "text/plain": [
       "       date county state     fips   cases  deaths\n",
       "0       NaN    NaN   NaN  53061.0     1.0     0.0\n",
       "1       NaN    NaN   NaN  53061.0     1.0     0.0\n",
       "2       NaN    NaN   NaN  53061.0     1.0     0.0\n",
       "3       NaN    NaN   NaN  17031.0     1.0     0.0\n",
       "4       NaN    NaN   NaN  53061.0     1.0     0.0\n",
       "...     ...    ...   ...      ...     ...     ...\n",
       "800432  NaN    NaN   NaN  56037.0     NaN    10.0\n",
       "800433  NaN    NaN   NaN  56039.0  1739.0     2.0\n",
       "800434  NaN    NaN   NaN  56041.0  1187.0     5.0\n",
       "800435  NaN    NaN   NaN  56043.0   519.0     8.0\n",
       "800436  NaN    NaN   NaN  56045.0   419.0     2.0\n",
       "\n",
       "[800437 rows x 6 columns]"
      ]
     },
     "execution_count": 17,
     "metadata": {},
     "output_type": "execute_result"
    }
   ],
   "source": [
    "dataset_without_outliers"
   ]
  },
  {
   "cell_type": "markdown",
   "id": "08f3e08e",
   "metadata": {},
   "source": [
    "## As we have only one outlier as per above result so we will retain it becuase some outliers represents the natural variation in the population"
   ]
  },
  {
   "cell_type": "code",
   "execution_count": 32,
   "id": "ef9ac560",
   "metadata": {},
   "outputs": [
    {
     "name": "stderr",
     "output_type": "stream",
     "text": [
      "G:\\PYTHON\\lib\\site-packages\\seaborn\\_decorators.py:36: FutureWarning: Pass the following variables as keyword args: x, y. From version 0.12, the only valid positional argument will be `data`, and passing other arguments without an explicit keyword will result in an error or misinterpretation.\n",
      "  warnings.warn(\n"
     ]
    },
    {
     "data": {
      "text/plain": [
       "<seaborn.axisgrid.FacetGrid at 0x1de2e975f60>"
      ]
     },
     "execution_count": 32,
     "metadata": {},
     "output_type": "execute_result"
    },
    {
     "data": {
      "image/png": "[encoded data removed]",
      "text/plain": [
       "<Figure size 500x500 with 1 Axes>"
      ]
     },
     "metadata": {},
     "output_type": "display_data"
    }
   ],
   "source": [
    "sns.catplot(\"fips\",\"deaths\",data=df,kind=\"box\")"
   ]
  },
  {
   "cell_type": "markdown",
   "id": "d43fad2a",
   "metadata": {},
   "source": [
    "## Encoding the Categorical variable"
   ]
  },
  {
   "cell_type": "code",
   "execution_count": 18,
   "id": "facf267b",
   "metadata": {},
   "outputs": [],
   "source": [
    "from sklearn.preprocessing import OrdinalEncoder\n",
    "encoder=OrdinalEncoder()\n",
    "X[:,0:2]=encoder.fit_transform(X[:,0:2])"
   ]
  },
  {
   "cell_type": "code",
   "execution_count": 19,
   "id": "d247c1d5",
   "metadata": {},
   "outputs": [
    {
     "data": {
      "text/plain": [
       "array([[1599.0],\n",
       "       [1599.0],\n",
       "       [1599.0],\n",
       "       ...,\n",
       "       [1763.0],\n",
       "       [1826.0],\n",
       "       [1850.0]], dtype=object)"
      ]
     },
     "execution_count": 19,
     "metadata": {},
     "output_type": "execute_result"
    }
   ],
   "source": [
    "X[:,0:1]"
   ]
  },
  {
   "cell_type": "code",
   "execution_count": 20,
   "id": "7e5aaae4",
   "metadata": {},
   "outputs": [
    {
     "data": {
      "text/plain": [
       "array([[51.0],\n",
       "       [51.0],\n",
       "       [51.0],\n",
       "       ...,\n",
       "       [54.0],\n",
       "       [54.0],\n",
       "       [54.0]], dtype=object)"
      ]
     },
     "execution_count": 20,
     "metadata": {},
     "output_type": "execute_result"
    }
   ],
   "source": [
    "X[:,1:2]"
   ]
  },
  {
   "cell_type": "code",
   "execution_count": 21,
   "id": "d54ff60b",
   "metadata": {},
   "outputs": [
    {
     "data": {
      "text/plain": [
       "0.0        235150\n",
       "1.0         87523\n",
       "2.0         52427\n",
       "3.0         35268\n",
       "4.0         27478\n",
       "            ...  \n",
       "4934.0          1\n",
       "5109.0          1\n",
       "2493.0          1\n",
       "23592.0         1\n",
       "3060.0          1\n",
       "Name: deaths, Length: 3168, dtype: int64"
      ]
     },
     "execution_count": 21,
     "metadata": {},
     "output_type": "execute_result"
    }
   ],
   "source": [
    "dataset[\"deaths\"].value_counts()"
   ]
  },
  {
   "cell_type": "markdown",
   "id": "3877715f",
   "metadata": {},
   "source": [
    "## Splitting of dataset into training set and testing set"
   ]
  },
  {
   "cell_type": "code",
   "execution_count": 22,
   "id": "c94f17a8",
   "metadata": {},
   "outputs": [],
   "source": [
    "from sklearn.model_selection import train_test_split\n",
    "X_train,X_test,y_train,y_test=train_test_split(X,y,test_size=0.2,random_state=0)"
   ]
  },
  {
   "cell_type": "markdown",
   "id": "28c5f2d1",
   "metadata": {},
   "source": [
    "## Feature Selection"
   ]
  },
  {
   "cell_type": "markdown",
   "id": "0d4d9603",
   "metadata": {},
   "source": [
    "## Variance Threshold Technique"
   ]
  },
  {
   "cell_type": "code",
   "execution_count": 23,
   "id": "3497e53b",
   "metadata": {},
   "outputs": [
    {
     "data": {
      "text/html": [
       "<style>#sk-container-id-1 {color: black;background-color: white;}#sk-container-id-1 pre{padding: 0;}#sk-container-id-1 div.sk-toggleable {background-color: white;}#sk-container-id-1 label.sk-toggleable__label {cursor: pointer;display: block;width: 100%;margin-bottom: 0;padding: 0.3em;box-sizing: border-box;text-align: center;}#sk-container-id-1 label.sk-toggleable__label-arrow:before {content: \"▸\";float: left;margin-right: 0.25em;color: #696969;}#sk-container-id-1 label.sk-toggleable__label-arrow:hover:before {color: black;}#sk-container-id-1 div.sk-estimator:hover label.sk-toggleable__label-arrow:before {color: black;}#sk-container-id-1 div.sk-toggleable__content {max-height: 0;max-width: 0;overflow: hidden;text-align: left;background-color: #f0f8ff;}#sk-container-id-1 div.sk-toggleable__content pre {margin: 0.2em;color: black;border-radius: 0.25em;background-color: #f0f8ff;}#sk-container-id-1 input.sk-toggleable__control:checked~div.sk-toggleable__content {max-height: 200px;max-width: 100%;overflow: auto;}#sk-container-id-1 input.sk-toggleable__control:checked~label.sk-toggleable__label-arrow:before {content: \"▾\";}#sk-container-id-1 div.sk-estimator input.sk-toggleable__control:checked~label.sk-toggleable__label {background-color: #d4ebff;}#sk-container-id-1 div.sk-label input.sk-toggleable__control:checked~label.sk-toggleable__label {background-color: #d4ebff;}#sk-container-id-1 input.sk-hidden--visually {border: 0;clip: rect(1px 1px 1px 1px);clip: rect(1px, 1px, 1px, 1px);height: 1px;margin: -1px;overflow: hidden;padding: 0;position: absolute;width: 1px;}#sk-container-id-1 div.sk-estimator {font-family: monospace;background-color: #f0f8ff;border: 1px dotted black;border-radius: 0.25em;box-sizing: border-box;margin-bottom: 0.5em;}#sk-container-id-1 div.sk-estimator:hover {background-color: #d4ebff;}#sk-container-id-1 div.sk-parallel-item::after {content: \"\";width: 100%;border-bottom: 1px solid gray;flex-grow: 1;}#sk-container-id-1 div.sk-label:hover label.sk-toggleable__label {background-color: #d4ebff;}#sk-container-id-1 div.sk-serial::before {content: \"\";position: absolute;border-left: 1px solid gray;box-sizing: border-box;top: 0;bottom: 0;left: 50%;z-index: 0;}#sk-container-id-1 div.sk-serial {display: flex;flex-direction: column;align-items: center;background-color: white;padding-right: 0.2em;padding-left: 0.2em;position: relative;}#sk-container-id-1 div.sk-item {position: relative;z-index: 1;}#sk-container-id-1 div.sk-parallel {display: flex;align-items: stretch;justify-content: center;background-color: white;position: relative;}#sk-container-id-1 div.sk-item::before, #sk-container-id-1 div.sk-parallel-item::before {content: \"\";position: absolute;border-left: 1px solid gray;box-sizing: border-box;top: 0;bottom: 0;left: 50%;z-index: -1;}#sk-container-id-1 div.sk-parallel-item {display: flex;flex-direction: column;z-index: 1;position: relative;background-color: white;}#sk-container-id-1 div.sk-parallel-item:first-child::after {align-self: flex-end;width: 50%;}#sk-container-id-1 div.sk-parallel-item:last-child::after {align-self: flex-start;width: 50%;}#sk-container-id-1 div.sk-parallel-item:only-child::after {width: 0;}#sk-container-id-1 div.sk-dashed-wrapped {border: 1px dashed gray;margin: 0 0.4em 0.5em 0.4em;box-sizing: border-box;padding-bottom: 0.4em;background-color: white;}#sk-container-id-1 div.sk-label label {font-family: monospace;font-weight: bold;display: inline-block;line-height: 1.2em;}#sk-container-id-1 div.sk-label-container {text-align: center;}#sk-container-id-1 div.sk-container {/* jupyter's `normalize.less` sets `[hidden] { display: none; }` but bootstrap.min.css set `[hidden] { display: none !important; }` so we also need the `!important` here to be able to override the default hidden behavior on the sphinx rendered scikit-learn.org. See: https://github.com/scikit-learn/scikit-learn/issues/21755 */display: inline-block !important;position: relative;}#sk-container-id-1 div.sk-text-repr-fallback {display: none;}</style><div id=\"sk-container-id-1\" class=\"sk-top-container\"><div class=\"sk-text-repr-fallback\"><pre>VarianceThreshold(threshold=0)</pre><b>In a Jupyter environment, please rerun this cell to show the HTML representation or trust the notebook. <br />On GitHub, the HTML representation is unable to render, please try loading this page with nbviewer.org.</b></div><div class=\"sk-container\" hidden><div class=\"sk-item\"><div class=\"sk-estimator sk-toggleable\"><input class=\"sk-toggleable__control sk-hidden--visually\" id=\"sk-estimator-id-1\" type=\"checkbox\" checked><label for=\"sk-estimator-id-1\" class=\"sk-toggleable__label sk-toggleable__label-arrow\">VarianceThreshold</label><div class=\"sk-toggleable__content\"><pre>VarianceThreshold(threshold=0)</pre></div></div></div></div></div>"
      ],
      "text/plain": [
       "VarianceThreshold(threshold=0)"
      ]
     },
     "execution_count": 23,
     "metadata": {},
     "output_type": "execute_result"
    }
   ],
   "source": [
    "from sklearn.feature_selection import VarianceThreshold\n",
    "var_thres=VarianceThreshold(threshold=0)\n",
    "var_thres.fit(X_train)"
   ]
  },
  {
   "cell_type": "code",
   "execution_count": 24,
   "id": "0498d7e0",
   "metadata": {},
   "outputs": [
    {
     "data": {
      "text/plain": [
       "array([ True,  True,  True,  True])"
      ]
     },
     "execution_count": 24,
     "metadata": {},
     "output_type": "execute_result"
    }
   ],
   "source": [
    "var_thres.get_support()"
   ]
  },
  {
   "cell_type": "markdown",
   "id": "15bc504f",
   "metadata": {},
   "source": [
    "## It means all the features have high variance which will be good for the prediction of dependent variable"
   ]
  },
  {
   "cell_type": "markdown",
   "id": "7b64d2d1",
   "metadata": {},
   "source": [
    "## Correlation Technique"
   ]
  },
  {
   "cell_type": "code",
   "execution_count": 25,
   "id": "4faa7267",
   "metadata": {},
   "outputs": [],
   "source": [
    "dataset.drop([\"date\"],axis=1,inplace=True)"
   ]
  },
  {
   "cell_type": "code",
   "execution_count": 26,
   "id": "4d406a0b",
   "metadata": {},
   "outputs": [],
   "source": [
    "X = dataset.drop(\"deaths\",axis=1)   #Feature Matrix\n",
    "y = dataset[\"deaths\"] "
   ]
  },
  {
   "cell_type": "code",
   "execution_count": 27,
   "id": "a43a02db",
   "metadata": {
    "scrolled": true
   },
   "outputs": [
    {
     "data": {
      "text/plain": [
       "0          0.0\n",
       "1          0.0\n",
       "2          0.0\n",
       "3          0.0\n",
       "4          0.0\n",
       "          ... \n",
       "800432    10.0\n",
       "800433     2.0\n",
       "800434     5.0\n",
       "800435     8.0\n",
       "800436     2.0\n",
       "Name: deaths, Length: 800437, dtype: float64"
      ]
     },
     "execution_count": 27,
     "metadata": {},
     "output_type": "execute_result"
    }
   ],
   "source": [
    "y"
   ]
  },
  {
   "cell_type": "code",
   "execution_count": 28,
   "id": "9cee7efc",
   "metadata": {},
   "outputs": [],
   "source": [
    "from sklearn.model_selection import train_test_split\n",
    "X_train,X_test,y_train,y_test=train_test_split(X,y,test_size=0.2,random_state=0)"
   ]
  },
  {
   "cell_type": "code",
   "execution_count": 29,
   "id": "77a3a670",
   "metadata": {},
   "outputs": [
    {
     "data": {
      "text/html": [
       "<div>\n",
       "<style scoped>\n",
       "    .dataframe tbody tr th:only-of-type {\n",
       "        vertical-align: middle;\n",
       "    }\n",
       "\n",
       "    .dataframe tbody tr th {\n",
       "        vertical-align: top;\n",
       "    }\n",
       "\n",
       "    .dataframe thead th {\n",
       "        text-align: right;\n",
       "    }\n",
       "</style>\n",
       "<table border=\"1\" class=\"dataframe\">\n",
       "  <thead>\n",
       "    <tr style=\"text-align: right;\">\n",
       "      <th></th>\n",
       "      <th>fips</th>\n",
       "      <th>cases</th>\n",
       "    </tr>\n",
       "  </thead>\n",
       "  <tbody>\n",
       "    <tr>\n",
       "      <th>fips</th>\n",
       "      <td>1.000000</td>\n",
       "      <td>-0.054191</td>\n",
       "    </tr>\n",
       "    <tr>\n",
       "      <th>cases</th>\n",
       "      <td>-0.054191</td>\n",
       "      <td>1.000000</td>\n",
       "    </tr>\n",
       "  </tbody>\n",
       "</table>\n",
       "</div>"
      ],
      "text/plain": [
       "           fips     cases\n",
       "fips   1.000000 -0.054191\n",
       "cases -0.054191  1.000000"
      ]
     },
     "execution_count": 29,
     "metadata": {},
     "output_type": "execute_result"
    }
   ],
   "source": [
    "X_train.corr()"
   ]
  },
  {
   "cell_type": "code",
   "execution_count": 30,
   "id": "c7535eb9",
   "metadata": {},
   "outputs": [
    {
     "data": {
      "image/png": "[encoded data removed]",
      "text/plain": [
       "<Figure size 864x720 with 2 Axes>"
      ]
     },
     "metadata": {
      "needs_background": "light"
     },
     "output_type": "display_data"
    }
   ],
   "source": [
    "import seaborn as sns\n",
    "#Using Pearson Correlation\n",
    "plt.figure(figsize=(12,10))\n",
    "cor = X_train.corr() ## finding the correlation in the training set over here for the machine learning model\n",
    "sns.heatmap(cor, annot=True, cmap=plt.cm.CMRmap_r)\n",
    "plt.show()"
   ]
  },
  {
   "cell_type": "code",
   "execution_count": 31,
   "id": "27a7edb1",
   "metadata": {},
   "outputs": [],
   "source": [
    "# with the following function we can select highly correlated features\n",
    "# it will remove the first feature that is correlated with anything other feature\n",
    "\n",
    "# and we have taken this function code from the sklearn API\n",
    "def correlation(dataset, threshold):\n",
    "    col_corr = set()  # Set of all the names of correlated columns\n",
    "    corr_matrix = dataset.corr()\n",
    "    for i in range(len(corr_matrix.columns)):\n",
    "        for j in range(i):\n",
    "            if abs(corr_matrix.iloc[i, j]) > threshold: # we are interested in absolute coeff value\n",
    "                colname = corr_matrix.columns[i]  # getting the name of column\n",
    "                col_corr.add(colname)\n",
    "    return col_corr"
   ]
  },
  {
   "cell_type": "code",
   "execution_count": 32,
   "id": "26559172",
   "metadata": {},
   "outputs": [
    {
     "data": {
      "text/plain": [
       "0"
      ]
     },
     "execution_count": 32,
     "metadata": {},
     "output_type": "execute_result"
    }
   ],
   "source": [
    "corr_features = correlation(X_train, 0.5)\n",
    "len(set(corr_features))"
   ]
  },
  {
   "cell_type": "code",
   "execution_count": 33,
   "id": "78562875",
   "metadata": {},
   "outputs": [
    {
     "data": {
      "text/html": [
       "<div>\n",
       "<style scoped>\n",
       "    .dataframe tbody tr th:only-of-type {\n",
       "        vertical-align: middle;\n",
       "    }\n",
       "\n",
       "    .dataframe tbody tr th {\n",
       "        vertical-align: top;\n",
       "    }\n",
       "\n",
       "    .dataframe thead th {\n",
       "        text-align: right;\n",
       "    }\n",
       "</style>\n",
       "<table border=\"1\" class=\"dataframe\">\n",
       "  <thead>\n",
       "    <tr style=\"text-align: right;\">\n",
       "      <th></th>\n",
       "      <th>county</th>\n",
       "      <th>state</th>\n",
       "      <th>fips</th>\n",
       "      <th>cases</th>\n",
       "    </tr>\n",
       "  </thead>\n",
       "  <tbody>\n",
       "    <tr>\n",
       "      <th>428907</th>\n",
       "      <td>Madison</td>\n",
       "      <td>Kentucky</td>\n",
       "      <td>21151.0</td>\n",
       "      <td>603</td>\n",
       "    </tr>\n",
       "    <tr>\n",
       "      <th>798484</th>\n",
       "      <td>Mason</td>\n",
       "      <td>Michigan</td>\n",
       "      <td>26105.0</td>\n",
       "      <td>677</td>\n",
       "    </tr>\n",
       "    <tr>\n",
       "      <th>520633</th>\n",
       "      <td>Carolina</td>\n",
       "      <td>Puerto Rico</td>\n",
       "      <td>72031.0</td>\n",
       "      <td>2105</td>\n",
       "    </tr>\n",
       "    <tr>\n",
       "      <th>604472</th>\n",
       "      <td>Mitchell</td>\n",
       "      <td>North Carolina</td>\n",
       "      <td>37121.0</td>\n",
       "      <td>172</td>\n",
       "    </tr>\n",
       "    <tr>\n",
       "      <th>624489</th>\n",
       "      <td>Benton</td>\n",
       "      <td>Tennessee</td>\n",
       "      <td>47005.0</td>\n",
       "      <td>366</td>\n",
       "    </tr>\n",
       "    <tr>\n",
       "      <th>...</th>\n",
       "      <td>...</td>\n",
       "      <td>...</td>\n",
       "      <td>...</td>\n",
       "      <td>...</td>\n",
       "    </tr>\n",
       "    <tr>\n",
       "      <th>359783</th>\n",
       "      <td>Hood</td>\n",
       "      <td>Texas</td>\n",
       "      <td>48221.0</td>\n",
       "      <td>272</td>\n",
       "    </tr>\n",
       "    <tr>\n",
       "      <th>152315</th>\n",
       "      <td>Red River</td>\n",
       "      <td>Louisiana</td>\n",
       "      <td>22081.0</td>\n",
       "      <td>42</td>\n",
       "    </tr>\n",
       "    <tr>\n",
       "      <th>117952</th>\n",
       "      <td>Waller</td>\n",
       "      <td>Texas</td>\n",
       "      <td>48473.0</td>\n",
       "      <td>33</td>\n",
       "    </tr>\n",
       "    <tr>\n",
       "      <th>435829</th>\n",
       "      <td>Howell</td>\n",
       "      <td>Missouri</td>\n",
       "      <td>29091.0</td>\n",
       "      <td>173</td>\n",
       "    </tr>\n",
       "    <tr>\n",
       "      <th>305711</th>\n",
       "      <td>Morgan</td>\n",
       "      <td>Utah</td>\n",
       "      <td>49029.0</td>\n",
       "      <td>24</td>\n",
       "    </tr>\n",
       "  </tbody>\n",
       "</table>\n",
       "<p>640349 rows × 4 columns</p>\n",
       "</div>"
      ],
      "text/plain": [
       "           county           state     fips  cases\n",
       "428907    Madison        Kentucky  21151.0    603\n",
       "798484      Mason        Michigan  26105.0    677\n",
       "520633   Carolina     Puerto Rico  72031.0   2105\n",
       "604472   Mitchell  North Carolina  37121.0    172\n",
       "624489     Benton       Tennessee  47005.0    366\n",
       "...           ...             ...      ...    ...\n",
       "359783       Hood           Texas  48221.0    272\n",
       "152315  Red River       Louisiana  22081.0     42\n",
       "117952     Waller           Texas  48473.0     33\n",
       "435829     Howell        Missouri  29091.0    173\n",
       "305711     Morgan            Utah  49029.0     24\n",
       "\n",
       "[640349 rows x 4 columns]"
      ]
     },
     "execution_count": 33,
     "metadata": {},
     "output_type": "execute_result"
    }
   ],
   "source": [
    "X_train"
   ]
  },
  {
   "cell_type": "code",
   "execution_count": 23,
   "id": "acb11156",
   "metadata": {},
   "outputs": [],
   "source": [
    "X = dataset.iloc[:,0:-1].values  #Feature Matrix\n",
    "y = dataset.iloc[:,-1].values"
   ]
  },
  {
   "cell_type": "code",
   "execution_count": 24,
   "id": "112791aa",
   "metadata": {},
   "outputs": [],
   "source": [
    "y=y.reshape(len(y),1)"
   ]
  },
  {
   "cell_type": "code",
   "execution_count": 25,
   "id": "9fca1c51",
   "metadata": {},
   "outputs": [
    {
     "data": {
      "text/plain": [
       "array([['1/21/2020', 'Snohomish', 'Washington', 53061.0, 1],\n",
       "       ['1/22/2020', 'Snohomish', 'Washington', 53061.0, 1],\n",
       "       ['1/23/2020', 'Snohomish', 'Washington', 53061.0, 1],\n",
       "       ...,\n",
       "       ['12/5/2020', 'Uinta', 'Wyoming', 56041.0, 1187],\n",
       "       ['12/5/2020', 'Washakie', 'Wyoming', 56043.0, 519],\n",
       "       ['12/5/2020', 'Weston', 'Wyoming', 56045.0, 419]], dtype=object)"
      ]
     },
     "execution_count": 25,
     "metadata": {},
     "output_type": "execute_result"
    }
   ],
   "source": [
    "X"
   ]
  },
  {
   "cell_type": "code",
   "execution_count": 37,
   "id": "7fbed7c5",
   "metadata": {},
   "outputs": [],
   "source": [
    "from sklearn.impute import SimpleImputer\n",
    "impute=SimpleImputer(missing_values=np.nan,strategy=\"mean\")\n",
    "impute.fit(X[:,2:3])\n",
    "X[:,2:3]=impute.transform(X[:,2:3])"
   ]
  },
  {
   "cell_type": "code",
   "execution_count": 38,
   "id": "8eb81131",
   "metadata": {},
   "outputs": [],
   "source": [
    "impute.fit(y)\n",
    "y=impute.transform(y)"
   ]
  },
  {
   "cell_type": "code",
   "execution_count": 39,
   "id": "bc9b9d44",
   "metadata": {},
   "outputs": [
    {
     "data": {
      "text/plain": [
       "county        0\n",
       "state         0\n",
       "fips       7591\n",
       "cases         0\n",
       "deaths    16733\n",
       "dtype: int64"
      ]
     },
     "execution_count": 39,
     "metadata": {},
     "output_type": "execute_result"
    }
   ],
   "source": [
    "dataset.isnull().sum()"
   ]
  },
  {
   "cell_type": "code",
   "execution_count": 40,
   "id": "f3855401",
   "metadata": {},
   "outputs": [],
   "source": [
    "from sklearn.preprocessing import OrdinalEncoder\n",
    "encoder=OrdinalEncoder()\n",
    "X[:,0:2]=encoder.fit_transform(X[:,0:2])\n",
    "\n",
    "\n"
   ]
  },
  {
   "cell_type": "code",
   "execution_count": 41,
   "id": "025f7d52",
   "metadata": {},
   "outputs": [
    {
     "data": {
      "text/plain": [
       "array([[1599.0, 51.0, 53061.0, 1],\n",
       "       [1599.0, 51.0, 53061.0, 1],\n",
       "       [1599.0, 51.0, 53061.0, 1],\n",
       "       ...,\n",
       "       [1763.0, 54.0, 56041.0, 1187],\n",
       "       [1826.0, 54.0, 56043.0, 519],\n",
       "       [1850.0, 54.0, 56045.0, 419]], dtype=object)"
      ]
     },
     "execution_count": 41,
     "metadata": {},
     "output_type": "execute_result"
    }
   ],
   "source": [
    "X"
   ]
  },
  {
   "cell_type": "code",
   "execution_count": 52,
   "id": "b38b3826",
   "metadata": {},
   "outputs": [],
   "source": [
    "from sklearn.model_selection import train_test_split\n",
    "X_train,X_test,y_train,y_test=train_test_split(X,y,test_size=0.2,random_state=0)"
   ]
  },
  {
   "cell_type": "code",
   "execution_count": 44,
   "id": "7c661332",
   "metadata": {},
   "outputs": [
    {
     "data": {
      "text/plain": [
       "array([[1058.0, 18.0, 21151.0, 603],\n",
       "       [1085.0, 23.0, 26105.0, 677],\n",
       "       [281.0, 41.0, 72031.0, 2105],\n",
       "       ...,\n",
       "       [1812.0, 46.0, 48473.0, 33],\n",
       "       [818.0, 26.0, 29091.0, 173],\n",
       "       [1182.0, 47.0, 49029.0, 24]], dtype=object)"
      ]
     },
     "execution_count": 44,
     "metadata": {},
     "output_type": "execute_result"
    }
   ],
   "source": [
    "X_train"
   ]
  },
  {
   "cell_type": "code",
   "execution_count": 45,
   "id": "88aa0b13",
   "metadata": {},
   "outputs": [
    {
     "data": {
      "text/plain": [
       "array([[ 1.       ],\n",
       "       [12.       ],\n",
       "       [48.8153091],\n",
       "       ...,\n",
       "       [ 0.       ],\n",
       "       [ 2.       ],\n",
       "       [ 0.       ]])"
      ]
     },
     "execution_count": 45,
     "metadata": {},
     "output_type": "execute_result"
    }
   ],
   "source": [
    "y_train"
   ]
  },
  {
   "cell_type": "code",
   "execution_count": 46,
   "id": "0d1a17b8",
   "metadata": {},
   "outputs": [
    {
     "name": "stderr",
     "output_type": "stream",
     "text": [
      "G:\\PYTHON\\lib\\site-packages\\sklearn\\utils\\validation.py:1111: DataConversionWarning: A column-vector y was passed when a 1d array was expected. Please change the shape of y to (n_samples, ), for example using ravel().\n",
      "  y = column_or_1d(y, warn=True)\n"
     ]
    },
    {
     "data": {
      "text/plain": [
       "array([0.85445278, 0.29057538, 1.15323995, 0.87283274])"
      ]
     },
     "execution_count": 46,
     "metadata": {},
     "output_type": "execute_result"
    }
   ],
   "source": [
    "from sklearn.feature_selection import mutual_info_regression\n",
    "\n",
    "mutual_info = mutual_info_regression(X_train, y_train)\n",
    "mutual_info"
   ]
  },
  {
   "cell_type": "code",
   "execution_count": 50,
   "id": "f0843a5b",
   "metadata": {},
   "outputs": [],
   "source": [
    "X = dataset.drop(\"deaths\",axis=1)   #Feature Matrix\n",
    "y = dataset[\"deaths\"] "
   ]
  },
  {
   "cell_type": "code",
   "execution_count": null,
   "id": "3b4912a2",
   "metadata": {},
   "outputs": [],
   "source": []
  },
  {
   "cell_type": "code",
   "execution_count": 53,
   "id": "47c7ff08",
   "metadata": {},
   "outputs": [
    {
     "data": {
      "text/plain": [
       "fips      1.153240\n",
       "cases     0.872833\n",
       "county    0.854453\n",
       "state     0.290575\n",
       "dtype: float64"
      ]
     },
     "execution_count": 53,
     "metadata": {},
     "output_type": "execute_result"
    }
   ],
   "source": [
    "mutual_info = pd.Series(mutual_info)\n",
    "mutual_info.index = X_train.columns\n",
    "mutual_info.sort_values(ascending=False)"
   ]
  },
  {
   "cell_type": "code",
   "execution_count": 48,
   "id": "bf606fe5",
   "metadata": {},
   "outputs": [
    {
     "data": {
      "text/plain": [
       "<AxesSubplot:>"
      ]
     },
     "execution_count": 48,
     "metadata": {},
     "output_type": "execute_result"
    },
    {
     "data": {
      "image/png": "[encoded data removed]",
      "text/plain": [
       "<Figure size 1080x360 with 1 Axes>"
      ]
     },
     "metadata": {
      "needs_background": "light"
     },
     "output_type": "display_data"
    }
   ],
   "source": [
    "mutual_info.sort_values(ascending=False).plot.bar(figsize=(15,5))"
   ]
  },
  {
   "cell_type": "markdown",
   "id": "0f5bfef2",
   "metadata": {},
   "source": [
    "## This shows that there is less dependency of state for the prediction of dependent variable so therefore we will drop state column"
   ]
  },
  {
   "cell_type": "code",
   "execution_count": 23,
   "id": "4bd9b812",
   "metadata": {},
   "outputs": [],
   "source": [
    "dataset.drop([\"state\"],axis=1,inplace=True)"
   ]
  },
  {
   "cell_type": "code",
   "execution_count": 24,
   "id": "00438357",
   "metadata": {},
   "outputs": [],
   "source": [
    "\n",
    "X=dataset.iloc[:,1:-1].values\n",
    "y=dataset.iloc[:,-1].values\n",
    "y=y.reshape(len(y),1)"
   ]
  },
  {
   "cell_type": "code",
   "execution_count": 25,
   "id": "56cc2ee4",
   "metadata": {},
   "outputs": [
    {
     "data": {
      "text/plain": [
       "array([['Snohomish', 53061.0, 1],\n",
       "       ['Snohomish', 53061.0, 1],\n",
       "       ['Snohomish', 53061.0, 1],\n",
       "       ...,\n",
       "       ['Uinta', 56041.0, 1187],\n",
       "       ['Washakie', 56043.0, 519],\n",
       "       ['Weston', 56045.0, 419]], dtype=object)"
      ]
     },
     "execution_count": 25,
     "metadata": {},
     "output_type": "execute_result"
    }
   ],
   "source": [
    "X"
   ]
  },
  {
   "cell_type": "code",
   "execution_count": 26,
   "id": "427cf97c",
   "metadata": {},
   "outputs": [],
   "source": [
    "from sklearn.impute import SimpleImputer\n",
    "impute=SimpleImputer(missing_values=np.nan,strategy=\"mean\")\n",
    "impute.fit(X[:,1:2])\n",
    "X[:,1:2]=impute.transform(X[:,1:2])"
   ]
  },
  {
   "cell_type": "code",
   "execution_count": 27,
   "id": "453c16a0",
   "metadata": {},
   "outputs": [],
   "source": [
    "impute.fit(y)\n",
    "y=impute.transform(y)"
   ]
  },
  {
   "cell_type": "code",
   "execution_count": 28,
   "id": "34b85d3c",
   "metadata": {},
   "outputs": [],
   "source": [
    "from sklearn.preprocessing import OrdinalEncoder\n",
    "encoder=OrdinalEncoder()\n",
    "X[:,0:1]=encoder.fit_transform(X[:,0:1])"
   ]
  },
  {
   "cell_type": "code",
   "execution_count": 29,
   "id": "2439e507",
   "metadata": {},
   "outputs": [
    {
     "data": {
      "text/plain": [
       "array([[1599.0],\n",
       "       [1599.0],\n",
       "       [1599.0],\n",
       "       ...,\n",
       "       [1763.0],\n",
       "       [1826.0],\n",
       "       [1850.0]], dtype=object)"
      ]
     },
     "execution_count": 29,
     "metadata": {},
     "output_type": "execute_result"
    }
   ],
   "source": [
    "X[:,0:1]"
   ]
  },
  {
   "cell_type": "code",
   "execution_count": 30,
   "id": "8e4514f4",
   "metadata": {},
   "outputs": [],
   "source": [
    "from sklearn.model_selection import train_test_split\n",
    "X_train,X_test,y_train,y_test=train_test_split(X,y,test_size=0.2,random_state=0)"
   ]
  },
  {
   "cell_type": "markdown",
   "id": "6dfc77e8",
   "metadata": {},
   "source": [
    "## Training the machine learning model on the training set"
   ]
  },
  {
   "cell_type": "code",
   "execution_count": 31,
   "id": "7d58dc60",
   "metadata": {},
   "outputs": [
    {
     "name": "stderr",
     "output_type": "stream",
     "text": [
      "C:\\Users\\Manmeet Singh\\AppData\\Local\\Temp\\ipykernel_9796\\2622531377.py:3: DataConversionWarning: A column-vector y was passed when a 1d array was expected. Please change the shape of y to (n_samples,), for example using ravel().\n",
      "  regressor.fit(X_train,y_train)\n"
     ]
    },
    {
     "data": {
      "text/html": [
       "<style>#sk-container-id-1 {color: black;background-color: white;}#sk-container-id-1 pre{padding: 0;}#sk-container-id-1 div.sk-toggleable {background-color: white;}#sk-container-id-1 label.sk-toggleable__label {cursor: pointer;display: block;width: 100%;margin-bottom: 0;padding: 0.3em;box-sizing: border-box;text-align: center;}#sk-container-id-1 label.sk-toggleable__label-arrow:before {content: \"▸\";float: left;margin-right: 0.25em;color: #696969;}#sk-container-id-1 label.sk-toggleable__label-arrow:hover:before {color: black;}#sk-container-id-1 div.sk-estimator:hover label.sk-toggleable__label-arrow:before {color: black;}#sk-container-id-1 div.sk-toggleable__content {max-height: 0;max-width: 0;overflow: hidden;text-align: left;background-color: #f0f8ff;}#sk-container-id-1 div.sk-toggleable__content pre {margin: 0.2em;color: black;border-radius: 0.25em;background-color: #f0f8ff;}#sk-container-id-1 input.sk-toggleable__control:checked~div.sk-toggleable__content {max-height: 200px;max-width: 100%;overflow: auto;}#sk-container-id-1 input.sk-toggleable__control:checked~label.sk-toggleable__label-arrow:before {content: \"▾\";}#sk-container-id-1 div.sk-estimator input.sk-toggleable__control:checked~label.sk-toggleable__label {background-color: #d4ebff;}#sk-container-id-1 div.sk-label input.sk-toggleable__control:checked~label.sk-toggleable__label {background-color: #d4ebff;}#sk-container-id-1 input.sk-hidden--visually {border: 0;clip: rect(1px 1px 1px 1px);clip: rect(1px, 1px, 1px, 1px);height: 1px;margin: -1px;overflow: hidden;padding: 0;position: absolute;width: 1px;}#sk-container-id-1 div.sk-estimator {font-family: monospace;background-color: #f0f8ff;border: 1px dotted black;border-radius: 0.25em;box-sizing: border-box;margin-bottom: 0.5em;}#sk-container-id-1 div.sk-estimator:hover {background-color: #d4ebff;}#sk-container-id-1 div.sk-parallel-item::after {content: \"\";width: 100%;border-bottom: 1px solid gray;flex-grow: 1;}#sk-container-id-1 div.sk-label:hover label.sk-toggleable__label {background-color: #d4ebff;}#sk-container-id-1 div.sk-serial::before {content: \"\";position: absolute;border-left: 1px solid gray;box-sizing: border-box;top: 0;bottom: 0;left: 50%;z-index: 0;}#sk-container-id-1 div.sk-serial {display: flex;flex-direction: column;align-items: center;background-color: white;padding-right: 0.2em;padding-left: 0.2em;position: relative;}#sk-container-id-1 div.sk-item {position: relative;z-index: 1;}#sk-container-id-1 div.sk-parallel {display: flex;align-items: stretch;justify-content: center;background-color: white;position: relative;}#sk-container-id-1 div.sk-item::before, #sk-container-id-1 div.sk-parallel-item::before {content: \"\";position: absolute;border-left: 1px solid gray;box-sizing: border-box;top: 0;bottom: 0;left: 50%;z-index: -1;}#sk-container-id-1 div.sk-parallel-item {display: flex;flex-direction: column;z-index: 1;position: relative;background-color: white;}#sk-container-id-1 div.sk-parallel-item:first-child::after {align-self: flex-end;width: 50%;}#sk-container-id-1 div.sk-parallel-item:last-child::after {align-self: flex-start;width: 50%;}#sk-container-id-1 div.sk-parallel-item:only-child::after {width: 0;}#sk-container-id-1 div.sk-dashed-wrapped {border: 1px dashed gray;margin: 0 0.4em 0.5em 0.4em;box-sizing: border-box;padding-bottom: 0.4em;background-color: white;}#sk-container-id-1 div.sk-label label {font-family: monospace;font-weight: bold;display: inline-block;line-height: 1.2em;}#sk-container-id-1 div.sk-label-container {text-align: center;}#sk-container-id-1 div.sk-container {/* jupyter's `normalize.less` sets `[hidden] { display: none; }` but bootstrap.min.css set `[hidden] { display: none !important; }` so we also need the `!important` here to be able to override the default hidden behavior on the sphinx rendered scikit-learn.org. See: https://github.com/scikit-learn/scikit-learn/issues/21755 */display: inline-block !important;position: relative;}#sk-container-id-1 div.sk-text-repr-fallback {display: none;}</style><div id=\"sk-container-id-1\" class=\"sk-top-container\"><div class=\"sk-text-repr-fallback\"><pre>RandomForestRegressor(n_estimators=25, random_state=0)</pre><b>In a Jupyter environment, please rerun this cell to show the HTML representation or trust the notebook. <br />On GitHub, the HTML representation is unable to render, please try loading this page with nbviewer.org.</b></div><div class=\"sk-container\" hidden><div class=\"sk-item\"><div class=\"sk-estimator sk-toggleable\"><input class=\"sk-toggleable__control sk-hidden--visually\" id=\"sk-estimator-id-1\" type=\"checkbox\" checked><label for=\"sk-estimator-id-1\" class=\"sk-toggleable__label sk-toggleable__label-arrow\">RandomForestRegressor</label><div class=\"sk-toggleable__content\"><pre>RandomForestRegressor(n_estimators=25, random_state=0)</pre></div></div></div></div></div>"
      ],
      "text/plain": [
       "RandomForestRegressor(n_estimators=25, random_state=0)"
      ]
     },
     "execution_count": 31,
     "metadata": {},
     "output_type": "execute_result"
    }
   ],
   "source": [
    "from sklearn.ensemble import RandomForestRegressor\n",
    "regressor=RandomForestRegressor(n_estimators=25,random_state=0)\n",
    "regressor.fit(X_train,y_train)"
   ]
  },
  {
   "cell_type": "markdown",
   "id": "0fb229af",
   "metadata": {},
   "source": [
    "## Predicting the test set results"
   ]
  },
  {
   "cell_type": "code",
   "execution_count": 32,
   "id": "2be8563c",
   "metadata": {},
   "outputs": [
    {
     "name": "stdout",
     "output_type": "stream",
     "text": [
      "[[ 0.    0.12]\n",
      " [ 1.    0.96]\n",
      " [49.   49.  ]\n",
      " ...\n",
      " [ 6.    6.  ]\n",
      " [ 0.    0.56]\n",
      " [ 1.    1.  ]]\n"
     ]
    }
   ],
   "source": [
    "y_pred=regressor.predict(X_test)\n",
    "np.set_printoptions(precision=3)\n",
    "print(np.concatenate((y_test.reshape(len(y_test),1),y_pred.reshape(len(y_pred),1)),1))"
   ]
  },
  {
   "cell_type": "code",
   "execution_count": 33,
   "id": "41a1e74f",
   "metadata": {},
   "outputs": [
    {
     "data": {
      "text/plain": [
       "0.9992241712710332"
      ]
     },
     "execution_count": 33,
     "metadata": {},
     "output_type": "execute_result"
    }
   ],
   "source": [
    "from sklearn.metrics import r2_score\n",
    "r2_score(y_test,y_pred)"
   ]
  },
  {
   "cell_type": "markdown",
   "id": "3d5d04e6",
   "metadata": {},
   "source": [
    "## Making a single Prediction \n",
    "\n",
    "### suppose we want to predict number of deaths in Wyoming city of weston country with fips code equals to 56050 and 420 cases \n",
    "\n",
    "\n",
    "### Encoding for weston is 1850 and Encoding for Wyoming is 54"
   ]
  },
  {
   "cell_type": "code",
   "execution_count": 34,
   "id": "7d74f3a7",
   "metadata": {},
   "outputs": [
    {
     "name": "stdout",
     "output_type": "stream",
     "text": [
      "[1.92]\n"
     ]
    }
   ],
   "source": [
    "print(regressor.predict([[1850,56035,420]]))"
   ]
  },
  {
   "cell_type": "code",
   "execution_count": null,
   "id": "f5c5ca7e",
   "metadata": {},
   "outputs": [],
   "source": []
  }
 ],
 "metadata": {
  "kernelspec": {
   "display_name": "Python 3 (ipykernel)",
   "language": "python",
   "name": "python3"
  },
  "language_info": {
   "codemirror_mode": {
    "name": "ipython",
    "version": 3
   },
   "file_extension": ".py",
   "mimetype": "text/x-python",
   "name": "python",
   "nbconvert_exporter": "python",
   "pygments_lexer": "ipython3",
   "version": "3.10.4"
  }
 },
 "nbformat": 4,
 "nbformat_minor": 5
}
